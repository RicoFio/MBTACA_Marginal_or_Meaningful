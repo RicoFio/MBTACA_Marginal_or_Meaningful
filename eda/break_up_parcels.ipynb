{
 "cells": [
  {
   "cell_type": "code",
   "execution_count": 22,
   "id": "initial_id",
   "metadata": {
    "collapsed": true,
    "ExecuteTime": {
     "end_time": "2024-04-28T20:02:31.857265Z",
     "start_time": "2024-04-28T20:02:31.855067Z"
    }
   },
   "outputs": [],
   "source": [
    "import geopandas as gpd\n",
    "import pandas as pd\n",
    "import json\n",
    "from pathlib import Path\n",
    "\n",
    "import pandas as pd\n",
    "from tqdm import tqdm"
   ]
  },
  {
   "cell_type": "code",
   "outputs": [],
   "source": [
    "DATA_PATH = Path(\"/home/riccardofiorista/Documents/courses/6.C85/fp_code/data\")\n",
    "OUTPUT_PATH = DATA_PATH / \"preprocessed_data/parcels/per_station\""
   ],
   "metadata": {
    "collapsed": false,
    "ExecuteTime": {
     "end_time": "2024-04-28T18:02:46.834459Z",
     "start_time": "2024-04-28T18:02:46.832083Z"
    }
   },
   "id": "b4d510ee6b1544fb",
   "execution_count": 14
  },
  {
   "cell_type": "code",
   "outputs": [
    {
     "ename": "KeyboardInterrupt",
     "evalue": "",
     "output_type": "error",
     "traceback": [
      "\u001B[0;31m---------------------------------------------------------------------------\u001B[0m",
      "\u001B[0;31mKeyboardInterrupt\u001B[0m                         Traceback (most recent call last)",
      "Cell \u001B[0;32mIn[15], line 1\u001B[0m\n\u001B[0;32m----> 1\u001B[0m parcels \u001B[38;5;241m=\u001B[39m \u001B[43mgpd\u001B[49m\u001B[38;5;241;43m.\u001B[39;49m\u001B[43mread_file\u001B[49m\u001B[43m(\u001B[49m\u001B[43mDATA_PATH\u001B[49m\u001B[43m \u001B[49m\u001B[38;5;241;43m/\u001B[39;49m\u001B[43m \u001B[49m\u001B[38;5;124;43m\"\u001B[39;49m\u001B[38;5;124;43mpreprocessed_data/station_only_parcels.geojson\u001B[39;49m\u001B[38;5;124;43m\"\u001B[39;49m\u001B[43m)\u001B[49m\n",
      "File \u001B[0;32m~/anaconda3/envs/data_vis/lib/python3.11/site-packages/geopandas/io/file.py:297\u001B[0m, in \u001B[0;36m_read_file\u001B[0;34m(filename, bbox, mask, rows, engine, **kwargs)\u001B[0m\n\u001B[1;32m    294\u001B[0m     \u001B[38;5;28;01melse\u001B[39;00m:\n\u001B[1;32m    295\u001B[0m         path_or_bytes \u001B[38;5;241m=\u001B[39m filename\n\u001B[0;32m--> 297\u001B[0m     \u001B[38;5;28;01mreturn\u001B[39;00m \u001B[43m_read_file_fiona\u001B[49m\u001B[43m(\u001B[49m\n\u001B[1;32m    298\u001B[0m \u001B[43m        \u001B[49m\u001B[43mpath_or_bytes\u001B[49m\u001B[43m,\u001B[49m\u001B[43m \u001B[49m\u001B[43mfrom_bytes\u001B[49m\u001B[43m,\u001B[49m\u001B[43m \u001B[49m\u001B[43mbbox\u001B[49m\u001B[38;5;241;43m=\u001B[39;49m\u001B[43mbbox\u001B[49m\u001B[43m,\u001B[49m\u001B[43m \u001B[49m\u001B[43mmask\u001B[49m\u001B[38;5;241;43m=\u001B[39;49m\u001B[43mmask\u001B[49m\u001B[43m,\u001B[49m\u001B[43m \u001B[49m\u001B[43mrows\u001B[49m\u001B[38;5;241;43m=\u001B[39;49m\u001B[43mrows\u001B[49m\u001B[43m,\u001B[49m\u001B[43m \u001B[49m\u001B[38;5;241;43m*\u001B[39;49m\u001B[38;5;241;43m*\u001B[39;49m\u001B[43mkwargs\u001B[49m\n\u001B[1;32m    299\u001B[0m \u001B[43m    \u001B[49m\u001B[43m)\u001B[49m\n\u001B[1;32m    301\u001B[0m \u001B[38;5;28;01melse\u001B[39;00m:\n\u001B[1;32m    302\u001B[0m     \u001B[38;5;28;01mraise\u001B[39;00m \u001B[38;5;167;01mValueError\u001B[39;00m(\u001B[38;5;124mf\u001B[39m\u001B[38;5;124m\"\u001B[39m\u001B[38;5;124munknown engine \u001B[39m\u001B[38;5;124m'\u001B[39m\u001B[38;5;132;01m{\u001B[39;00mengine\u001B[38;5;132;01m}\u001B[39;00m\u001B[38;5;124m'\u001B[39m\u001B[38;5;124m\"\u001B[39m)\n",
      "File \u001B[0;32m~/anaconda3/envs/data_vis/lib/python3.11/site-packages/geopandas/io/file.py:338\u001B[0m, in \u001B[0;36m_read_file_fiona\u001B[0;34m(path_or_bytes, from_bytes, bbox, mask, rows, where, **kwargs)\u001B[0m\n\u001B[1;32m    335\u001B[0m     reader \u001B[38;5;241m=\u001B[39m fiona\u001B[38;5;241m.\u001B[39mopen\n\u001B[1;32m    337\u001B[0m \u001B[38;5;28;01mwith\u001B[39;00m fiona_env():\n\u001B[0;32m--> 338\u001B[0m     \u001B[38;5;28;01mwith\u001B[39;00m \u001B[43mreader\u001B[49m\u001B[43m(\u001B[49m\u001B[43mpath_or_bytes\u001B[49m\u001B[43m,\u001B[49m\u001B[43m \u001B[49m\u001B[38;5;241;43m*\u001B[39;49m\u001B[38;5;241;43m*\u001B[39;49m\u001B[43mkwargs\u001B[49m\u001B[43m)\u001B[49m \u001B[38;5;28;01mas\u001B[39;00m features:\n\u001B[1;32m    339\u001B[0m         crs \u001B[38;5;241m=\u001B[39m features\u001B[38;5;241m.\u001B[39mcrs_wkt\n\u001B[1;32m    340\u001B[0m         \u001B[38;5;66;03m# attempt to get EPSG code\u001B[39;00m\n",
      "File \u001B[0;32m~/anaconda3/envs/data_vis/lib/python3.11/site-packages/fiona/env.py:457\u001B[0m, in \u001B[0;36mensure_env_with_credentials.<locals>.wrapper\u001B[0;34m(*args, **kwds)\u001B[0m\n\u001B[1;32m    454\u001B[0m     session \u001B[38;5;241m=\u001B[39m DummySession()\n\u001B[1;32m    456\u001B[0m \u001B[38;5;28;01mwith\u001B[39;00m env_ctor(session\u001B[38;5;241m=\u001B[39msession):\n\u001B[0;32m--> 457\u001B[0m     \u001B[38;5;28;01mreturn\u001B[39;00m \u001B[43mf\u001B[49m\u001B[43m(\u001B[49m\u001B[38;5;241;43m*\u001B[39;49m\u001B[43margs\u001B[49m\u001B[43m,\u001B[49m\u001B[43m \u001B[49m\u001B[38;5;241;43m*\u001B[39;49m\u001B[38;5;241;43m*\u001B[39;49m\u001B[43mkwds\u001B[49m\u001B[43m)\u001B[49m\n",
      "File \u001B[0;32m~/anaconda3/envs/data_vis/lib/python3.11/site-packages/fiona/__init__.py:292\u001B[0m, in \u001B[0;36mopen\u001B[0;34m(fp, mode, driver, schema, crs, encoding, layer, vfs, enabled_drivers, crs_wkt, allow_unsupported_drivers, **kwargs)\u001B[0m\n\u001B[1;32m    289\u001B[0m     path \u001B[38;5;241m=\u001B[39m parse_path(fp)\n\u001B[1;32m    291\u001B[0m \u001B[38;5;28;01mif\u001B[39;00m mode \u001B[38;5;129;01min\u001B[39;00m (\u001B[38;5;124m\"\u001B[39m\u001B[38;5;124ma\u001B[39m\u001B[38;5;124m\"\u001B[39m, \u001B[38;5;124m\"\u001B[39m\u001B[38;5;124mr\u001B[39m\u001B[38;5;124m\"\u001B[39m):\n\u001B[0;32m--> 292\u001B[0m     colxn \u001B[38;5;241m=\u001B[39m \u001B[43mCollection\u001B[49m\u001B[43m(\u001B[49m\n\u001B[1;32m    293\u001B[0m \u001B[43m        \u001B[49m\u001B[43mpath\u001B[49m\u001B[43m,\u001B[49m\n\u001B[1;32m    294\u001B[0m \u001B[43m        \u001B[49m\u001B[43mmode\u001B[49m\u001B[43m,\u001B[49m\n\u001B[1;32m    295\u001B[0m \u001B[43m        \u001B[49m\u001B[43mdriver\u001B[49m\u001B[38;5;241;43m=\u001B[39;49m\u001B[43mdriver\u001B[49m\u001B[43m,\u001B[49m\n\u001B[1;32m    296\u001B[0m \u001B[43m        \u001B[49m\u001B[43mencoding\u001B[49m\u001B[38;5;241;43m=\u001B[39;49m\u001B[43mencoding\u001B[49m\u001B[43m,\u001B[49m\n\u001B[1;32m    297\u001B[0m \u001B[43m        \u001B[49m\u001B[43mlayer\u001B[49m\u001B[38;5;241;43m=\u001B[39;49m\u001B[43mlayer\u001B[49m\u001B[43m,\u001B[49m\n\u001B[1;32m    298\u001B[0m \u001B[43m        \u001B[49m\u001B[43menabled_drivers\u001B[49m\u001B[38;5;241;43m=\u001B[39;49m\u001B[43menabled_drivers\u001B[49m\u001B[43m,\u001B[49m\n\u001B[1;32m    299\u001B[0m \u001B[43m        \u001B[49m\u001B[43mallow_unsupported_drivers\u001B[49m\u001B[38;5;241;43m=\u001B[39;49m\u001B[43mallow_unsupported_drivers\u001B[49m\u001B[43m,\u001B[49m\n\u001B[1;32m    300\u001B[0m \u001B[43m        \u001B[49m\u001B[38;5;241;43m*\u001B[39;49m\u001B[38;5;241;43m*\u001B[39;49m\u001B[43mkwargs\u001B[49m\n\u001B[1;32m    301\u001B[0m \u001B[43m    \u001B[49m\u001B[43m)\u001B[49m\n\u001B[1;32m    302\u001B[0m \u001B[38;5;28;01melif\u001B[39;00m mode \u001B[38;5;241m==\u001B[39m \u001B[38;5;124m\"\u001B[39m\u001B[38;5;124mw\u001B[39m\u001B[38;5;124m\"\u001B[39m:\n\u001B[1;32m    303\u001B[0m     colxn \u001B[38;5;241m=\u001B[39m Collection(\n\u001B[1;32m    304\u001B[0m         path,\n\u001B[1;32m    305\u001B[0m         mode,\n\u001B[0;32m   (...)\u001B[0m\n\u001B[1;32m    314\u001B[0m         \u001B[38;5;241m*\u001B[39m\u001B[38;5;241m*\u001B[39mkwargs\n\u001B[1;32m    315\u001B[0m     )\n",
      "File \u001B[0;32m~/anaconda3/envs/data_vis/lib/python3.11/site-packages/fiona/collection.py:243\u001B[0m, in \u001B[0;36mCollection.__init__\u001B[0;34m(self, path, mode, driver, schema, crs, encoding, layer, vsi, archive, enabled_drivers, crs_wkt, ignore_fields, ignore_geometry, include_fields, wkt_version, allow_unsupported_drivers, **kwargs)\u001B[0m\n\u001B[1;32m    241\u001B[0m \u001B[38;5;28;01mif\u001B[39;00m \u001B[38;5;28mself\u001B[39m\u001B[38;5;241m.\u001B[39mmode \u001B[38;5;241m==\u001B[39m \u001B[38;5;124m\"\u001B[39m\u001B[38;5;124mr\u001B[39m\u001B[38;5;124m\"\u001B[39m:\n\u001B[1;32m    242\u001B[0m     \u001B[38;5;28mself\u001B[39m\u001B[38;5;241m.\u001B[39msession \u001B[38;5;241m=\u001B[39m Session()\n\u001B[0;32m--> 243\u001B[0m     \u001B[38;5;28;43mself\u001B[39;49m\u001B[38;5;241;43m.\u001B[39;49m\u001B[43msession\u001B[49m\u001B[38;5;241;43m.\u001B[39;49m\u001B[43mstart\u001B[49m\u001B[43m(\u001B[49m\u001B[38;5;28;43mself\u001B[39;49m\u001B[43m,\u001B[49m\u001B[43m \u001B[49m\u001B[38;5;241;43m*\u001B[39;49m\u001B[38;5;241;43m*\u001B[39;49m\u001B[43mkwargs\u001B[49m\u001B[43m)\u001B[49m\n\u001B[1;32m    244\u001B[0m \u001B[38;5;28;01melif\u001B[39;00m \u001B[38;5;28mself\u001B[39m\u001B[38;5;241m.\u001B[39mmode \u001B[38;5;129;01min\u001B[39;00m (\u001B[38;5;124m\"\u001B[39m\u001B[38;5;124ma\u001B[39m\u001B[38;5;124m\"\u001B[39m, \u001B[38;5;124m\"\u001B[39m\u001B[38;5;124mw\u001B[39m\u001B[38;5;124m\"\u001B[39m):\n\u001B[1;32m    245\u001B[0m     \u001B[38;5;28mself\u001B[39m\u001B[38;5;241m.\u001B[39msession \u001B[38;5;241m=\u001B[39m WritingSession()\n",
      "\u001B[0;31mKeyboardInterrupt\u001B[0m: "
     ]
    }
   ],
   "source": [
    "parcels = gpd.read_file(DATA_PATH / \"preprocessed_data/station_only_parcels.geojson\")"
   ],
   "metadata": {
    "collapsed": false,
    "ExecuteTime": {
     "end_time": "2024-04-28T18:03:07.091833Z",
     "start_time": "2024-04-28T18:02:46.835195Z"
    }
   },
   "id": "815a8919326b08e8",
   "execution_count": 15
  },
  {
   "cell_type": "code",
   "outputs": [
    {
     "name": "stderr",
     "output_type": "stream",
     "text": [
      "100%|██████████| 164/164 [02:46<00:00,  1.01s/it]\n"
     ]
    }
   ],
   "source": [
    "OUTPUT_PATH.mkdir(parents=True, exist_ok=True)\n",
    "\n",
    "def store_station_parcel_data(station_parcels):\n",
    "    station_only_parcels_to_save = station_parcels.copy().to_crs('EPSG:4326')\n",
    "    station_only_parcels_to_save['zone_id'] = station_only_parcels_to_save['zone_id'].apply(json.dumps)\n",
    "    station_only_parcels_to_save['routes'] = station_only_parcels_to_save['routes'].apply(json.dumps)\n",
    "    station_only_parcels_to_save['route_colors'] = station_only_parcels_to_save['route_colors'].apply(json.dumps)\n",
    "    \n",
    "    # Ensure that parcels are for one stop\n",
    "    stop_names = station_parcels['stop_name'].unique()\n",
    "    if len(stop_names) > 1:\n",
    "        raise ValueError(f'Can only process one stop per dataframe not: {stop_names}')\n",
    "    else:\n",
    "        stop_name = stop_names[0]\n",
    "        \n",
    "    file_name = f\"{stop_name}_parcels.geojson\"\n",
    "    file_name = file_name.replace(\" \", \"_\").replace(\"/\", \"_\").replace(\".\", \"_\").lower()\n",
    "    file_path = OUTPUT_PATH / file_name\n",
    "    \n",
    "    station_only_parcels_to_save.to_file(file_path, driver='GeoJSON')\n",
    "    \n",
    "    return file_path\n",
    "    \n",
    "file_structure = {'StopName': [], 'FileName': []}\n",
    "\n",
    "for stop_name in tqdm(parcels['stop_name'].unique()):\n",
    "    parcels_to_store = parcels[parcels['stop_name'] == stop_name]\n",
    "    file_path = store_station_parcel_data(parcels_to_store)\n",
    "    file_structure['StopName'].append(stop_name)\n",
    "    file_structure['FileName'].append(file_path)"
   ],
   "metadata": {
    "collapsed": false,
    "ExecuteTime": {
     "end_time": "2024-04-28T18:08:01.174472Z",
     "start_time": "2024-04-28T18:05:14.745629Z"
    }
   },
   "id": "e407e5c9ab92107b",
   "execution_count": 19
  },
  {
   "cell_type": "code",
   "outputs": [],
   "source": [
    "file_df = pd.DataFrame(file_structure)"
   ],
   "metadata": {
    "collapsed": false,
    "ExecuteTime": {
     "end_time": "2024-04-28T20:13:15.329381Z",
     "start_time": "2024-04-28T20:13:15.325025Z"
    }
   },
   "id": "23a61268e90dde7",
   "execution_count": 25
  },
  {
   "cell_type": "code",
   "outputs": [],
   "source": [
    "file_df['FileName'] = file_df['FileName'].apply(lambda x: Path(*x.parts[x.parts.index('fp_code') + 1:]))"
   ],
   "metadata": {
    "collapsed": false,
    "ExecuteTime": {
     "end_time": "2024-04-28T20:20:45.473038Z",
     "start_time": "2024-04-28T20:20:45.468035Z"
    }
   },
   "id": "5136b883a811b6de",
   "execution_count": 69
  },
  {
   "cell_type": "code",
   "outputs": [],
   "source": [
    "file_df['FileName'] = file_df['FileName'].astype(str)"
   ],
   "metadata": {
    "collapsed": false,
    "ExecuteTime": {
     "end_time": "2024-04-28T20:22:41.885054Z",
     "start_time": "2024-04-28T20:22:41.882831Z"
    }
   },
   "id": "d1d394227f2baf3e",
   "execution_count": 78
  },
  {
   "cell_type": "code",
   "outputs": [],
   "source": [
    "pd.DataFrame(file_structure).to_csv(OUTPUT_PATH / 'file_name_reference.csv')"
   ],
   "metadata": {
    "collapsed": false,
    "ExecuteTime": {
     "end_time": "2024-04-28T20:23:08.469645Z",
     "start_time": "2024-04-28T20:23:08.464913Z"
    }
   },
   "id": "5a73d92f89202b31",
   "execution_count": 81
  }
 ],
 "metadata": {
  "kernelspec": {
   "display_name": "Python 3",
   "language": "python",
   "name": "python3"
  },
  "language_info": {
   "codemirror_mode": {
    "name": "ipython",
    "version": 2
   },
   "file_extension": ".py",
   "mimetype": "text/x-python",
   "name": "python",
   "nbconvert_exporter": "python",
   "pygments_lexer": "ipython2",
   "version": "2.7.6"
  }
 },
 "nbformat": 4,
 "nbformat_minor": 5
}
