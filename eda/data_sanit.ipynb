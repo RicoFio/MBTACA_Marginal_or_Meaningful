{
 "cells": [
  {
   "cell_type": "code",
   "execution_count": 152,
   "id": "initial_id",
   "metadata": {
    "collapsed": true,
    "ExecuteTime": {
     "end_time": "2024-05-12T22:33:35.851581Z",
     "start_time": "2024-05-12T22:33:35.849131Z"
    }
   },
   "outputs": [],
   "source": [
    "import pandas as pd\n",
    "from pathlib import Path"
   ]
  },
  {
   "cell_type": "code",
   "outputs": [],
   "source": [
    "file_list = list(Path(\"/home/riccardofiorista/Documents/courses/6.C85/fp_code/code/static/data/parcels/per_station\").glob(\"*.geojson\"))"
   ],
   "metadata": {
    "collapsed": false,
    "ExecuteTime": {
     "end_time": "2024-05-12T22:33:35.857354Z",
     "start_time": "2024-05-12T22:33:35.852998Z"
    }
   },
   "id": "9adf40031732688a",
   "execution_count": 153
  },
  {
   "cell_type": "code",
   "outputs": [],
   "source": [
    "file_df = pd.DataFrame({'file_path': file_list, 'file_name': [c.stem for c in file_list]})"
   ],
   "metadata": {
    "collapsed": false,
    "ExecuteTime": {
     "end_time": "2024-05-12T22:33:35.904484Z",
     "start_time": "2024-05-12T22:33:35.900890Z"
    }
   },
   "id": "709af5e401b085a6",
   "execution_count": 154
  },
  {
   "cell_type": "code",
   "outputs": [
    {
     "data": {
      "text/plain": "                                           file_path  \\\n0  /home/riccardofiorista/Documents/courses/6.C85...   \n1  /home/riccardofiorista/Documents/courses/6.C85...   \n2  /home/riccardofiorista/Documents/courses/6.C85...   \n3  /home/riccardofiorista/Documents/courses/6.C85...   \n4  /home/riccardofiorista/Documents/courses/6.C85...   \n\n                            file_name  \n0                   reservoir_parcels  \n1             south_attleboro_parcels  \n2  newton_highlands_augmented_parcels  \n3                   riverside_parcels  \n4                revere_beach_parcels  ",
      "text/html": "<div>\n<style scoped>\n    .dataframe tbody tr th:only-of-type {\n        vertical-align: middle;\n    }\n\n    .dataframe tbody tr th {\n        vertical-align: top;\n    }\n\n    .dataframe thead th {\n        text-align: right;\n    }\n</style>\n<table border=\"1\" class=\"dataframe\">\n  <thead>\n    <tr style=\"text-align: right;\">\n      <th></th>\n      <th>file_path</th>\n      <th>file_name</th>\n    </tr>\n  </thead>\n  <tbody>\n    <tr>\n      <th>0</th>\n      <td>/home/riccardofiorista/Documents/courses/6.C85...</td>\n      <td>reservoir_parcels</td>\n    </tr>\n    <tr>\n      <th>1</th>\n      <td>/home/riccardofiorista/Documents/courses/6.C85...</td>\n      <td>south_attleboro_parcels</td>\n    </tr>\n    <tr>\n      <th>2</th>\n      <td>/home/riccardofiorista/Documents/courses/6.C85...</td>\n      <td>newton_highlands_augmented_parcels</td>\n    </tr>\n    <tr>\n      <th>3</th>\n      <td>/home/riccardofiorista/Documents/courses/6.C85...</td>\n      <td>riverside_parcels</td>\n    </tr>\n    <tr>\n      <th>4</th>\n      <td>/home/riccardofiorista/Documents/courses/6.C85...</td>\n      <td>revere_beach_parcels</td>\n    </tr>\n  </tbody>\n</table>\n</div>"
     },
     "execution_count": 155,
     "metadata": {},
     "output_type": "execute_result"
    }
   ],
   "source": [
    "file_df.head(5)"
   ],
   "metadata": {
    "collapsed": false,
    "ExecuteTime": {
     "end_time": "2024-05-12T22:33:35.955566Z",
     "start_time": "2024-05-12T22:33:35.951517Z"
    }
   },
   "id": "77484a997163bb81",
   "execution_count": 155
  },
  {
   "cell_type": "code",
   "outputs": [],
   "source": [
    "file_df.loc[file_df['file_name'].str.contains('augmented'), 'AUG'] = True"
   ],
   "metadata": {
    "collapsed": false,
    "ExecuteTime": {
     "end_time": "2024-05-12T22:33:36.125993Z",
     "start_time": "2024-05-12T22:33:36.120644Z"
    }
   },
   "id": "daf9b16a3e7b3640",
   "execution_count": 156
  },
  {
   "cell_type": "code",
   "outputs": [
    {
     "name": "stderr",
     "output_type": "stream",
     "text": [
      "/tmp/ipykernel_313443/3010186627.py:1: FutureWarning: Downcasting object dtype arrays on .fillna, .ffill, .bfill is deprecated and will change in a future version. Call result.infer_objects(copy=False) instead. To opt-in to the future behavior, set `pd.set_option('future.no_silent_downcasting', True)`\n",
      "  file_df['AUG'] = file_df['AUG'].fillna(False)\n"
     ]
    }
   ],
   "source": [
    "file_df['AUG'] = file_df['AUG'].fillna(False) "
   ],
   "metadata": {
    "collapsed": false,
    "ExecuteTime": {
     "end_time": "2024-05-12T22:33:36.341685Z",
     "start_time": "2024-05-12T22:33:36.338664Z"
    }
   },
   "id": "ece6991ffa0c9cf7",
   "execution_count": 157
  },
  {
   "cell_type": "code",
   "outputs": [],
   "source": [
    "file_df['station_name'] = file_df['file_name']#.str.rstrip('_parcels').str.rstrip('_augmented').str.replace('_', '').str.capitalize()"
   ],
   "metadata": {
    "collapsed": false,
    "ExecuteTime": {
     "end_time": "2024-05-12T22:33:36.634592Z",
     "start_time": "2024-05-12T22:33:36.631366Z"
    }
   },
   "id": "cda768a4871b860d",
   "execution_count": 158
  },
  {
   "cell_type": "code",
   "outputs": [],
   "source": [
    "file_df.loc[file_df['station_name'].str.contains('_augmented_parcels'), 'station_name'] = file_df['station_name'][file_df['station_name'].str.contains('_augmented_parcels')].str[:-18]"
   ],
   "metadata": {
    "collapsed": false,
    "ExecuteTime": {
     "end_time": "2024-05-12T22:33:36.829054Z",
     "start_time": "2024-05-12T22:33:36.825383Z"
    }
   },
   "id": "d331ebe619524aef",
   "execution_count": 159
  },
  {
   "cell_type": "code",
   "outputs": [],
   "source": [
    "file_df.loc[file_df['station_name'].str.contains('_parcels'), 'station_name'] = file_df['station_name'][file_df['station_name'].str.contains('_parcels')].str[:-8]"
   ],
   "metadata": {
    "collapsed": false,
    "ExecuteTime": {
     "end_time": "2024-05-12T22:33:37.183950Z",
     "start_time": "2024-05-12T22:33:37.177776Z"
    }
   },
   "id": "f35b564a848dba",
   "execution_count": 160
  },
  {
   "cell_type": "code",
   "outputs": [],
   "source": [
    "file_df = file_df[~file_df['station_name'].str.contains('upzone_willchange')]"
   ],
   "metadata": {
    "collapsed": false,
    "ExecuteTime": {
     "end_time": "2024-05-12T22:33:37.189248Z",
     "start_time": "2024-05-12T22:33:37.185957Z"
    }
   },
   "id": "ae2923d738670efe",
   "execution_count": 161
  },
  {
   "cell_type": "code",
   "outputs": [],
   "source": [
    "file_df.loc[:, 'station_name'] = file_df['station_name'].str.replace('_', ' ').str.title()"
   ],
   "metadata": {
    "collapsed": false,
    "ExecuteTime": {
     "end_time": "2024-05-12T22:33:37.194680Z",
     "start_time": "2024-05-12T22:33:37.190441Z"
    }
   },
   "id": "53965d95a4b84117",
   "execution_count": 162
  },
  {
   "cell_type": "code",
   "outputs": [],
   "source": [
    "out_df = file_df.sort_values(by=['station_name', 'AUG'], ascending=[True, False]).drop_duplicates(subset='station_name', keep='first').reset_index(drop=True)"
   ],
   "metadata": {
    "collapsed": false,
    "ExecuteTime": {
     "end_time": "2024-05-12T22:33:37.207647Z",
     "start_time": "2024-05-12T22:33:37.195953Z"
    }
   },
   "id": "37dfad6834b40e7",
   "execution_count": 163
  },
  {
   "cell_type": "code",
   "outputs": [],
   "source": [
    "final_df = out_df[['station_name', 'file_path']].copy().rename(columns={'station_name': 'StopName', 'file_path': 'FileName'})"
   ],
   "metadata": {
    "collapsed": false,
    "ExecuteTime": {
     "end_time": "2024-05-12T22:38:34.505439Z",
     "start_time": "2024-05-12T22:38:34.499048Z"
    }
   },
   "id": "505cdf81597602d3",
   "execution_count": 173
  },
  {
   "cell_type": "code",
   "outputs": [],
   "source": [
    "final_df['FileName'] = final_df['FileName'].astype(str).str[67:]"
   ],
   "metadata": {
    "collapsed": false,
    "ExecuteTime": {
     "end_time": "2024-05-12T22:38:44.353911Z",
     "start_time": "2024-05-12T22:38:44.349350Z"
    }
   },
   "id": "9b2724cac4572cba",
   "execution_count": 175
  },
  {
   "cell_type": "code",
   "outputs": [
    {
     "data": {
      "text/plain": "            StopName                                           FileName\n0           Abington  data/parcels/per_station/abington_parcels.geojson\n1            Alewife  data/parcels/per_station/alewife_augmented_par...\n2    Anderson Woburn  data/parcels/per_station/anderson_woburn_parce...\n3            Andover   data/parcels/per_station/andover_parcels.geojson\n4            Ashland   data/parcels/per_station/ashland_parcels.geojson\n..               ...                                                ...\n159        Wollaston  data/parcels/per_station/wollaston_augmented_p...\n160       Wonderland  data/parcels/per_station/wonderland_parcels.ge...\n161         Woodland  data/parcels/per_station/woodland_augmented_pa...\n162        Worcester  data/parcels/per_station/worcester_parcels.geo...\n163     Wyoming Hill  data/parcels/per_station/wyoming_hill_parcels....\n\n[164 rows x 2 columns]",
      "text/html": "<div>\n<style scoped>\n    .dataframe tbody tr th:only-of-type {\n        vertical-align: middle;\n    }\n\n    .dataframe tbody tr th {\n        vertical-align: top;\n    }\n\n    .dataframe thead th {\n        text-align: right;\n    }\n</style>\n<table border=\"1\" class=\"dataframe\">\n  <thead>\n    <tr style=\"text-align: right;\">\n      <th></th>\n      <th>StopName</th>\n      <th>FileName</th>\n    </tr>\n  </thead>\n  <tbody>\n    <tr>\n      <th>0</th>\n      <td>Abington</td>\n      <td>data/parcels/per_station/abington_parcels.geojson</td>\n    </tr>\n    <tr>\n      <th>1</th>\n      <td>Alewife</td>\n      <td>data/parcels/per_station/alewife_augmented_par...</td>\n    </tr>\n    <tr>\n      <th>2</th>\n      <td>Anderson Woburn</td>\n      <td>data/parcels/per_station/anderson_woburn_parce...</td>\n    </tr>\n    <tr>\n      <th>3</th>\n      <td>Andover</td>\n      <td>data/parcels/per_station/andover_parcels.geojson</td>\n    </tr>\n    <tr>\n      <th>4</th>\n      <td>Ashland</td>\n      <td>data/parcels/per_station/ashland_parcels.geojson</td>\n    </tr>\n    <tr>\n      <th>...</th>\n      <td>...</td>\n      <td>...</td>\n    </tr>\n    <tr>\n      <th>159</th>\n      <td>Wollaston</td>\n      <td>data/parcels/per_station/wollaston_augmented_p...</td>\n    </tr>\n    <tr>\n      <th>160</th>\n      <td>Wonderland</td>\n      <td>data/parcels/per_station/wonderland_parcels.ge...</td>\n    </tr>\n    <tr>\n      <th>161</th>\n      <td>Woodland</td>\n      <td>data/parcels/per_station/woodland_augmented_pa...</td>\n    </tr>\n    <tr>\n      <th>162</th>\n      <td>Worcester</td>\n      <td>data/parcels/per_station/worcester_parcels.geo...</td>\n    </tr>\n    <tr>\n      <th>163</th>\n      <td>Wyoming Hill</td>\n      <td>data/parcels/per_station/wyoming_hill_parcels....</td>\n    </tr>\n  </tbody>\n</table>\n<p>164 rows × 2 columns</p>\n</div>"
     },
     "execution_count": 176,
     "metadata": {},
     "output_type": "execute_result"
    }
   ],
   "source": [
    "final_df"
   ],
   "metadata": {
    "collapsed": false,
    "ExecuteTime": {
     "end_time": "2024-05-12T22:38:45.242946Z",
     "start_time": "2024-05-12T22:38:45.234376Z"
    }
   },
   "id": "774bd13087dcb9b0",
   "execution_count": 176
  },
  {
   "cell_type": "code",
   "outputs": [],
   "source": [
    "final_df.to_csv('/home/riccardofiorista/Documents/courses/6.C85/fp_code/code/static/data/parcels/merged_file_name_reference.csv', index=False)"
   ],
   "metadata": {
    "collapsed": false,
    "ExecuteTime": {
     "end_time": "2024-05-12T22:38:48.605940Z",
     "start_time": "2024-05-12T22:38:48.585902Z"
    }
   },
   "id": "8eff87fb2de6ee5f",
   "execution_count": 177
  },
  {
   "cell_type": "code",
   "outputs": [],
   "source": [
    "Brookline Hills,data/parcels/per_station/brookline_hills_augmented_parcels.geojson\n",
    "Brookline Hills,data/parcels/per_station/brookline_hills_augmented_parcels.geojson"
   ],
   "metadata": {
    "collapsed": false
   },
   "id": "58af09de7ef431f4"
  }
 ],
 "metadata": {
  "kernelspec": {
   "display_name": "Python 3",
   "language": "python",
   "name": "python3"
  },
  "language_info": {
   "codemirror_mode": {
    "name": "ipython",
    "version": 2
   },
   "file_extension": ".py",
   "mimetype": "text/x-python",
   "name": "python",
   "nbconvert_exporter": "python",
   "pygments_lexer": "ipython2",
   "version": "2.7.6"
  }
 },
 "nbformat": 4,
 "nbformat_minor": 5
}
